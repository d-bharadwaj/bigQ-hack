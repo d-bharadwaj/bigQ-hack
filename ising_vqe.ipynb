{
 "cells": [
  {
   "cell_type": "code",
   "execution_count": 25,
   "metadata": {},
   "outputs": [],
   "source": [
    "# from qiskit.circuit.library import RealAmplitudes\n",
    "# from qiskit.quantum_info import SparsePauliOp\n",
    "\n",
    "# from qiskit_ibm_runtime import QiskitRuntimeService, Estimator, Session\n",
    "\n",
    "# service = QiskitRuntimeService(channel=\"ibm_cloud\")\n",
    "\n",
    "# psi1 = RealAmplitudes(num_qubits=2, reps=2)\n",
    "\n",
    "# H1 = SparsePauliOp.from_list([(\"II\", 1), (\"IZ\", 2), (\"XI\", 3)])\n",
    "# H2 = SparsePauliOp.from_list([(\"IZ\", 1)])\n",
    "# H3 = SparsePauliOp.from_list([(\"ZI\", 1), (\"ZZ\", 1)])\n",
    "\n",
    "# with Session(service=service, backend=\"ibmq_qasm_simulator\") as session:\n",
    "#     estimator = Estimator(session=session)\n",
    "\n",
    "#     theta1 = [0, 1, 1, 2, 3, 5]\n",
    "\n",
    "#     # calculate [ <psi1(theta1)|H1|psi1(theta1)> ]\n",
    "#     psi1_H1 = estimator.run(circuits=[psi1], observables=[H1], parameter_values=[theta1])\n",
    "#     print(psi1_H1.result())\n",
    "\n",
    "#     # calculate [ <psi1(theta1)|H2|psi1(theta1)>, <psi1(theta1)|H3|psi1(theta1)> ]\n",
    "#     psi1_H23 = estimator.run(\n",
    "#         circuits=[psi1, psi1],\n",
    "#         observables=[H2, H3],\n",
    "#         parameter_values=[theta1]*2\n",
    "#     )\n",
    "#     print(psi1_H23.result())\n",
    "#     # Close the session only if all jobs are finished\n",
    "#     # and you don't need to run more in the session\n",
    "#     session.close()"
   ]
  },
  {
   "cell_type": "code",
   "execution_count": 26,
   "metadata": {},
   "outputs": [],
   "source": [
    "num_qubits = 3"
   ]
  },
  {
   "cell_type": "code",
   "execution_count": 27,
   "metadata": {},
   "outputs": [],
   "source": [
    "from qiskit_nature.second_q.hamiltonians.lattices import LineLattice, BoundaryCondition\n",
    "from qiskit_nature.second_q.hamiltonians.ising_model import IsingModel\n",
    "\n",
    "line_lattice = LineLattice(num_nodes=num_qubits, boundary_condition=BoundaryCondition.OPEN)\n",
    "\n",
    "ising_model = IsingModel(\n",
    "    line_lattice.uniform_parameters(\n",
    "        uniform_interaction=-1.0,\n",
    "        uniform_onsite_potential=-1.0,\n",
    "    ),\n",
    ")\n",
    "Ham_1 = ising_model.second_q_op()"
   ]
  },
  {
   "cell_type": "code",
   "execution_count": 28,
   "metadata": {},
   "outputs": [],
   "source": [
    "from qiskit.quantum_info import Operator\n",
    "\n",
    "operator = Operator(Ham_1.to_matrix())"
   ]
  },
  {
   "cell_type": "code",
   "execution_count": 29,
   "metadata": {},
   "outputs": [
    {
     "data": {
      "text/plain": [
       "OpShape(num_qargs_l=3, num_qargs_r=3)"
      ]
     },
     "execution_count": 29,
     "metadata": {},
     "output_type": "execute_result"
    }
   ],
   "source": [
    "operator._op_shape"
   ]
  },
  {
   "cell_type": "code",
   "execution_count": 30,
   "metadata": {},
   "outputs": [
    {
     "name": "stdout",
     "output_type": "stream",
     "text": [
      "EstimatorResult(values=array([-0.494]), metadata=[{'variance': 0.749881875, 'shots': 4000}])\n"
     ]
    }
   ],
   "source": [
    "from qiskit.circuit.library import RealAmplitudes\n",
    "from qiskit.quantum_info import SparsePauliOp\n",
    "\n",
    "from qiskit_ibm_runtime import QiskitRuntimeService, Estimator, Session\n",
    "\n",
    "service = QiskitRuntimeService(channel=\"ibm_cloud\")\n",
    "\n",
    "psi1 = RealAmplitudes(num_qubits=num_qubits, reps=2)\n",
    "\n",
    "with Session(service=service, backend=\"ibmq_qasm_simulator\") as session:\n",
    "    estimator = Estimator(session=session)\n",
    "\n",
    "    theta1 = [0]*num_qubits*3\n",
    "\n",
    "    # calculate [ <psi1(theta1)|H1|psi1(theta1)> ]\n",
    "    psi1_H1 = estimator.run(circuits=[psi1], observables=[operator], parameter_values=[theta1])\n",
    "    print(psi1_H1.result())\n",
    "    session.close()"
   ]
  },
  {
   "cell_type": "code",
   "execution_count": null,
   "metadata": {},
   "outputs": [],
   "source": []
  }
 ],
 "metadata": {
  "kernelspec": {
   "display_name": ".venv",
   "language": "python",
   "name": "python3"
  },
  "language_info": {
   "codemirror_mode": {
    "name": "ipython",
    "version": 3
   },
   "file_extension": ".py",
   "mimetype": "text/x-python",
   "name": "python",
   "nbconvert_exporter": "python",
   "pygments_lexer": "ipython3",
   "version": "3.10.9"
  },
  "orig_nbformat": 4
 },
 "nbformat": 4,
 "nbformat_minor": 2
}
