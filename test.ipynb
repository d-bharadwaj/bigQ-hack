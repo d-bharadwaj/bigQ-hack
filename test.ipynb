{
 "cells": [
  {
   "cell_type": "code",
   "execution_count": null,
   "metadata": {},
   "outputs": [],
   "source": [
    "# from pytket.extensions.quantinuum import QuantinuumBackend\n",
    "# # Select the H1-2 emulation device\n",
    "# machine = 'H1-2E'\n",
    "# backend_emu = QuantinuumBackend(device_name=machine)\n",
    "# backend_emu.login()"
   ]
  },
  {
   "cell_type": "code",
   "execution_count": 38,
   "metadata": {},
   "outputs": [],
   "source": [
    "# General imports\n",
    "import time\n",
    "import numpy as np\n",
    "\n",
    "# Pre-defined ansatz circuit and operator class for Hamiltonian\n",
    "from qiskit.circuit.library import EfficientSU2\n",
    "from qiskit.quantum_info import SparsePauliOp\n",
    "\n",
    "# The IBM Qiskit Runtime\n",
    "from qiskit_ibm_runtime import QiskitRuntimeService\n",
    "from qiskit_ibm_runtime import Estimator, Session\n",
    "\n",
    "# SciPy minimizer routine\n",
    "from scipy.optimize import minimize\n",
    "\n",
    "# Plotting functions\n",
    "import matplotlib.pyplot as plt\n",
    "\n",
    "%config InlineBackend.figure_format='retina'\n",
    "\n",
    "from qiskit_nature.second_q.hamiltonians.lattices import LineLattice, BoundaryCondition\n",
    "from qiskit_nature.second_q.hamiltonians.ising_model import IsingModel\n",
    "\n",
    "from qiskit.algorithms.minimum_eigensolvers import VQE\n",
    "from qiskit.circuit.library import RealAmplitudes\n",
    "from qiskit.algorithms.optimizers import SPSA"
   ]
  },
  {
   "cell_type": "code",
   "execution_count": 42,
   "metadata": {},
   "outputs": [],
   "source": [
    "from qiskit_ibm_runtime import QiskitRuntimeService, Estimator\n",
    "\n",
    "service = QiskitRuntimeService(channel=\"ibm_cloud\")"
   ]
  },
  {
   "cell_type": "markdown",
   "metadata": {},
   "source": [
    "# Initial State"
   ]
  },
  {
   "cell_type": "code",
   "execution_count": 41,
   "metadata": {},
   "outputs": [],
   "source": [
    "psi1 = RealAmplitudes(num_qubits=10, reps=2)"
   ]
  },
  {
   "cell_type": "markdown",
   "metadata": {},
   "source": [
    "# Hamiltonian"
   ]
  },
  {
   "cell_type": "markdown",
   "metadata": {},
   "source": [
    "## Hamiltonian 1"
   ]
  },
  {
   "cell_type": "code",
   "execution_count": 26,
   "metadata": {},
   "outputs": [],
   "source": [
    "line_lattice = LineLattice(num_nodes=10, boundary_condition=BoundaryCondition.OPEN)\n",
    "\n",
    "ising_model = IsingModel(\n",
    "    line_lattice.uniform_parameters(\n",
    "        uniform_interaction=-1.0,\n",
    "        uniform_onsite_potential=-1.0,\n",
    "    ),\n",
    ")"
   ]
  },
  {
   "cell_type": "code",
   "execution_count": 27,
   "metadata": {},
   "outputs": [
    {
     "name": "stdout",
     "output_type": "stream",
     "text": [
      "Spin Operator\n",
      "spin=1/2, number spins=10, number terms=19\n",
      "  (-1+0j) * ( Z_0 Z_1 )\n",
      "+ (-1+0j) * ( Z_1 Z_2 )\n",
      "+ (-1+0j) * ( Z_2 Z_3 )\n",
      "+ (-1+0j) * ( Z_3 Z_4 )\n",
      "+ (-1+0j) * ( Z_4 Z_5 )\n",
      "+ (-1+0j) * ( Z_5 Z_6 )\n",
      "+ (-1+0j) * ( Z_6 Z_7 )\n",
      "+ (-1+0j) * ( Z_7 Z_8 )\n",
      "+ (-1+0j) * ( Z_8 Z_9 )\n",
      "+ (-1+0j) * ( X_0 )\n",
      "+ (-1+0j) * ( X_1 )\n",
      "+ (-1+0j) * ( X_2 )\n",
      "+ (-1+0j) * ( X_3 )\n",
      "+ (-1+0j) * ( X_4 )\n",
      "+ (-1+0j) * ( X_5 )\n",
      "+ (-1+0j) * ( X_6 )\n",
      "+ (-1+0j) * ( X_7 )\n",
      "+ (-1+0j) * ( X_8 )\n",
      "+ (-1+0j) * ( X_9 )\n"
     ]
    }
   ],
   "source": [
    "Ham_1 = ising_model.second_q_op().simplify()\n",
    "print(Ham_1)"
   ]
  },
  {
   "cell_type": "code",
   "execution_count": null,
   "metadata": {},
   "outputs": [],
   "source": [
    "# hamiltonian = SparsePauliOp.from_list(\n",
    "#     [(\"YZ\", 0.3980), (\"ZI\", -0.3980), (\"ZZ\", -0.0113), (\"XX\", 0.1810)]\n",
    "# )"
   ]
  },
  {
   "cell_type": "markdown",
   "metadata": {},
   "source": [
    "# Step 1 - Use VQE to find the eigenvalue and eigenvectors of the Hamiltonian"
   ]
  },
  {
   "cell_type": "code",
   "execution_count": 39,
   "metadata": {},
   "outputs": [
    {
     "data": {
      "text/plain": [
       "<qiskit.algorithms.minimum_eigensolvers.vqe.VQE at 0x2e9493a77f0>"
      ]
     },
     "execution_count": 39,
     "metadata": {},
     "output_type": "execute_result"
    }
   ],
   "source": [
    "VQE(Ham_1, RealAmplitudes(10), SPSA(1000))"
   ]
  },
  {
   "cell_type": "code",
   "execution_count": 14,
   "metadata": {},
   "outputs": [
    {
     "data": {
      "text/plain": [
       "SpinOp({'Z_0 Z_1': (-1+0j), 'Z_1 Z_2': (-1+0j), 'Z_2 Z_3': (-1+0j), 'Z_3 Z_4': (-1+0j), 'Z_4 Z_5': (-1+0j), 'Z_5 Z_6': (-1+0j), 'Z_6 Z_7': (-1+0j), 'Z_7 Z_8': (-1+0j), 'Z_8 Z_9': (-1+0j), 'X_0': (1+0j), 'X_1': (1+0j), 'X_2': (1+0j), 'X_3': (1+0j), 'X_4': (1+0j), 'X_5': (1+0j), 'X_6': (1+0j), 'X_7': (1+0j), 'X_8': (1+0j), 'X_9': (1+0j)}, spin=1/2, num_spins=10, )"
      ]
     },
     "execution_count": 14,
     "metadata": {},
     "output_type": "execute_result"
    }
   ],
   "source": [
    "with Session(service=service, backend=\"ibmq_qasm_simulator\") as session:\n",
    "    estimator = Estimator(session=session)\n",
    "\n",
    "    theta1 = [0, 1, 1, 2, 3, 5]\n",
    "\n",
    "    # calculate [ <psi1(theta1)|H1|psi1(theta1)> ]\n",
    "    psi1_H1 = estimator.run(circuits=[psi1], observables=[H1], parameter_values=[theta1])\n",
    "    print(psi1_H1.result())\n",
    "\n",
    "    # calculate [ <psi1(theta1)|H2|psi1(theta1)>, <psi1(theta1)|H3|psi1(theta1)> ]\n",
    "    psi1_H23 = estimator.run(\n",
    "        circuits=[psi1, psi1],\n",
    "        observables=[H2, H3],\n",
    "        parameter_values=[theta1]*2\n",
    "    )\n",
    "    print(psi1_H23.result())\n",
    "    # Close the session only if all jobs are finished\n",
    "    # and you don't need to run more in the session\n",
    "    session.close()"
   ]
  },
  {
   "cell_type": "code",
   "execution_count": null,
   "metadata": {},
   "outputs": [],
   "source": []
  }
 ],
 "metadata": {
  "kernelspec": {
   "display_name": ".venv",
   "language": "python",
   "name": "python3"
  },
  "language_info": {
   "codemirror_mode": {
    "name": "ipython",
    "version": 3
   },
   "file_extension": ".py",
   "mimetype": "text/x-python",
   "name": "python",
   "nbconvert_exporter": "python",
   "pygments_lexer": "ipython3",
   "version": "3.10.9"
  },
  "orig_nbformat": 4
 },
 "nbformat": 4,
 "nbformat_minor": 2
}
